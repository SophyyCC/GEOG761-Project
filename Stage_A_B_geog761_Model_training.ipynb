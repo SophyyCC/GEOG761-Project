{
  "nbformat": 4,
  "nbformat_minor": 0,
  "metadata": {
    "colab": {
      "provenance": [],
      "gpuType": "T4",
      "toc_visible": true
    },
    "kernelspec": {
      "name": "python3",
      "display_name": "Python 3"
    },
    "language_info": {
      "name": "python"
    },
    "accelerator": "GPU"
  },
  "cells": [
    {
      "cell_type": "markdown",
      "source": [
        "# Setup"
      ],
      "metadata": {
        "id": "xxC0xxXdB5Gi"
      }
    },
    {
      "cell_type": "code",
      "source": [
        "from google.colab import drive\n",
        "drive.mount('/content/drive')\n",
        "\n",
        "import zipfile, os\n",
        "import random\n",
        "from glob import glob\n",
        "import shutil\n",
        "from PIL import Image"
      ],
      "metadata": {
        "colab": {
          "base_uri": "https://localhost:8080/"
        },
        "id": "iV3t_6sM2E_h",
        "outputId": "d6fdf2b1-954b-4cc6-dbbc-5edc1a0ce0b1"
      },
      "execution_count": null,
      "outputs": [
        {
          "output_type": "stream",
          "name": "stdout",
          "text": [
            "Drive already mounted at /content/drive; to attempt to forcibly remount, call drive.mount(\"/content/drive\", force_remount=True).\n"
          ]
        }
      ]
    },
    {
      "cell_type": "code",
      "source": [
        "def unzip_to_folder(zip_path):\n",
        "    folder_name = os.path.splitext(os.path.basename(zip_path))[0]\n",
        "    os.makedirs(folder_name, exist_ok=True)\n",
        "    with zipfile.ZipFile(zip_path, 'r') as zip_ref:\n",
        "        zip_ref.extractall(folder_name)\n",
        "    print(f\"Unzipped {zip_path} → {folder_name}/\")\n",
        "    return folder_name"
      ],
      "metadata": {
        "id": "yMk50vsh1yEa"
      },
      "execution_count": null,
      "outputs": []
    },
    {
      "cell_type": "code",
      "source": [
        "# unzip_to_folder(\"/content/drive/MyDrive/patches.zip\")\n",
        "\n",
        "# extract_dir = \"/content/patches\""
      ],
      "metadata": {
        "id": "xTnOYEyK2gmf"
      },
      "execution_count": null,
      "outputs": []
    },
    {
      "cell_type": "markdown",
      "source": [
        "# Stage A: Data Preprocessing\n",
        "Skipped stage A after run once."
      ],
      "metadata": {
        "id": "_ppg2u4z8h-e"
      }
    },
    {
      "cell_type": "code",
      "source": [
        "# Step 2. Define a function to sample 50% uniformly across labels\n",
        "def sample_dataset(input_dir, output_dir, sample_fraction=0.5, seed=42):\n",
        "    \"\"\"\n",
        "    Randomly samples a given fraction of images from each class (and tile)\n",
        "    while preserving folder structure and avoiding overwriting.\n",
        "    \"\"\"\n",
        "    random.seed(seed)\n",
        "    os.makedirs(output_dir, exist_ok=True)\n",
        "\n",
        "    total_selected = 0\n",
        "    total_available = 0\n",
        "\n",
        "    # Loop through each label (high, moderate, low)\n",
        "    for label in os.listdir(input_dir):\n",
        "        label_path = os.path.join(input_dir, label)\n",
        "        if not os.path.isdir(label_path):\n",
        "            continue\n",
        "\n",
        "        # Create label folder in output\n",
        "        out_label_dir = os.path.join(output_dir, label)\n",
        "        os.makedirs(out_label_dir, exist_ok=True)\n",
        "\n",
        "        # Loop through each tile folder under that label\n",
        "        for tile in os.listdir(label_path):\n",
        "            tile_path = os.path.join(label_path, tile)\n",
        "            if not os.path.isdir(tile_path):\n",
        "                continue\n",
        "\n",
        "            # Find all image files inside tile\n",
        "            image_paths = glob(os.path.join(tile_path, '*.*'))\n",
        "            image_paths = [p for p in image_paths if p.lower().endswith(('.png', '.jpg', '.jpeg', '.tif'))]\n",
        "\n",
        "            n_total = len(image_paths)\n",
        "            n_sample = int(n_total * sample_fraction)\n",
        "            sampled = random.sample(image_paths, n_sample)\n",
        "\n",
        "            # Create matching tile folder in output\n",
        "            out_tile_dir = os.path.join(out_label_dir, tile)\n",
        "            os.makedirs(out_tile_dir, exist_ok=True)\n",
        "\n",
        "            # Copy sampled images\n",
        "            for src in sampled:\n",
        "                dst = os.path.join(out_tile_dir, os.path.basename(src))\n",
        "                shutil.copy(src, dst)\n",
        "\n",
        "            total_selected += n_sample\n",
        "            total_available += n_total\n",
        "\n",
        "            print(f\"{label}/{tile}: {n_sample}/{n_total} images selected\")\n",
        "\n",
        "    print(f\"\\nTotal sampled: {total_selected}/{total_available} \"\n",
        "          f\"({(total_selected/total_available)*100:.1f}%)\")\n",
        "\n"
      ],
      "metadata": {
        "id": "U89uchad2fM2"
      },
      "execution_count": null,
      "outputs": []
    },
    {
      "cell_type": "code",
      "source": [
        "input_dir = \"/content/patches\"\n",
        "output_dir = \"/content/patches_sampled_50\"\n",
        "\n",
        "sample_dataset(input_dir, output_dir, sample_fraction=0.5)\n"
      ],
      "metadata": {
        "id": "Shyop-Oh2i8q"
      },
      "execution_count": null,
      "outputs": []
    },
    {
      "cell_type": "code",
      "source": [
        "# Function to zip a folder\n",
        "\n",
        "def zip_folder(folder_path, output_path=None):\n",
        "    \"\"\"\n",
        "    Compresses a folder (and all its contents) into a .zip file.\n",
        "\n",
        "    Args:\n",
        "        folder_path (str): Path to the folder you want to zip.\n",
        "        output_path (str, optional): Path (without .zip extension) for the output file.\n",
        "                                     Defaults to same directory as folder_path.\n",
        "    Returns:\n",
        "        str: Full path to the created .zip file.\n",
        "    \"\"\"\n",
        "    if output_path is None:\n",
        "        output_path = folder_path  # saves as folder_path.zip\n",
        "\n",
        "    # Remove trailing slash if present\n",
        "    output_path = output_path.rstrip('/')\n",
        "\n",
        "    # Create the zip file\n",
        "    shutil.make_archive(output_path, 'zip', folder_path)\n",
        "\n",
        "    zip_file = f\"{output_path}.zip\"\n",
        "    print(f\"Zipped folder saved to: {zip_file}\")\n",
        "    print(f\"Size: {os.path.getsize(zip_file) / (1024*1024):.2f} MB\")\n",
        "    return zip_file\n"
      ],
      "metadata": {
        "id": "gKPZz9Re3TwQ"
      },
      "execution_count": null,
      "outputs": []
    },
    {
      "cell_type": "code",
      "source": [
        "folder_to_zip = \"/content/patches_sampled_50\"\n",
        "output_zip_path = \"/content/patches_sampled_50\"  # will create patches_sampled_50.zip\n",
        "\n",
        "zip_file = zip_folder(folder_to_zip, output_zip_path)"
      ],
      "metadata": {
        "id": "AunzCgsP3cj6"
      },
      "execution_count": null,
      "outputs": []
    },
    {
      "cell_type": "markdown",
      "source": [
        "# Stage B: Modelling"
      ],
      "metadata": {
        "id": "wOXqT-wgcVkj"
      }
    },
    {
      "cell_type": "code",
      "source": [
        "unzip_to_folder(\"/content/drive/MyDrive/patches_sampled_50.zip\")\n",
        "\n",
        "extract_dir = \"/content/patches_sampled_50\""
      ],
      "metadata": {
        "colab": {
          "base_uri": "https://localhost:8080/"
        },
        "id": "0x80lRAcEiY4",
        "outputId": "0fbec26c-bcdb-48af-ddae-61bc68ea6746"
      },
      "execution_count": null,
      "outputs": [
        {
          "output_type": "stream",
          "name": "stdout",
          "text": [
            "Unzipped /content/drive/MyDrive/patches_sampled_50.zip → patches_sampled_50/\n"
          ]
        }
      ]
    },
    {
      "cell_type": "markdown",
      "source": [
        "# Create training, validation, and test splits"
      ],
      "metadata": {
        "id": "U_KM40698nHn"
      }
    },
    {
      "cell_type": "code",
      "source": [
        "# Step 2. Create training, validation, and test splits\n",
        "import tensorflow as tf\n",
        "from tensorflow.keras.utils import image_dataset_from_directory\n",
        "\n",
        "# -----------------------------\n",
        "# Parameters\n",
        "# -----------------------------\n",
        "data_dir = extract_dir           # path to your extracted patches\n",
        "img_size = (256, 256)\n",
        "batch_size = 64\n",
        "seed = 42\n",
        "\n",
        "# -----------------------------\n",
        "# Create initial 80/20 split\n",
        "# -----------------------------\n",
        "train_ds = image_dataset_from_directory(\n",
        "    data_dir,\n",
        "    labels='inferred',\n",
        "    label_mode='int',\n",
        "    validation_split=0.2,   # 20% for val+test\n",
        "    subset='training',\n",
        "    seed=seed,\n",
        "    image_size=img_size,\n",
        "    batch_size=batch_size\n",
        ")\n",
        "\n",
        "val_test_ds = image_dataset_from_directory(\n",
        "    data_dir,\n",
        "    labels='inferred',\n",
        "    label_mode='int',\n",
        "    validation_split=0.2,\n",
        "    subset='validation',\n",
        "    seed=seed,\n",
        "    image_size=img_size,\n",
        "    batch_size=batch_size\n",
        ")\n",
        "\n",
        "# -----------------------------\n",
        "# Split the 20% into 10% val + 10% test\n",
        "# -----------------------------\n",
        "val_batches = tf.data.experimental.cardinality(val_test_ds)\n",
        "test_ds = val_test_ds.take(val_batches // 2)\n",
        "val_ds = val_test_ds.skip(val_batches // 2)\n",
        "\n",
        "print(f\"Train batches: {tf.data.experimental.cardinality(train_ds)}\")\n",
        "print(f\"Val batches:   {tf.data.experimental.cardinality(val_ds)}\")\n",
        "print(f\"Test batches:  {tf.data.experimental.cardinality(test_ds)}\")\n"
      ],
      "metadata": {
        "colab": {
          "base_uri": "https://localhost:8080/"
        },
        "id": "DIjx4EsZB8Kt",
        "outputId": "e91aff00-599a-4bca-91f9-0cc77d3ae49a"
      },
      "execution_count": null,
      "outputs": [
        {
          "output_type": "stream",
          "name": "stdout",
          "text": [
            "Found 3000 files belonging to 3 classes.\n",
            "Using 2400 files for training.\n",
            "Found 3000 files belonging to 3 classes.\n",
            "Using 600 files for validation.\n",
            "Train batches: 38\n",
            "Val batches:   5\n",
            "Test batches:  5\n"
          ]
        }
      ]
    },
    {
      "cell_type": "code",
      "source": [
        "# Step 3. Prepare the dataset for performance\n",
        "AUTOTUNE = tf.data.AUTOTUNE\n",
        "\n",
        "# Normalization to rescales pixel intensity range (e.g., 0–255 → 0–1)\n",
        "normalization_layer = tf.keras.layers.Rescaling(1./255)\n",
        "\n",
        "def preprocess(ds):\n",
        "    return ds.map(lambda x, y: (normalization_layer(x), y)).cache().shuffle(1000).prefetch(buffer_size=tf.data.AUTOTUNE)\n",
        "\n",
        "train_ds = preprocess(train_ds)\n",
        "val_ds   = preprocess(val_ds)\n",
        "test_ds  = preprocess(test_ds)"
      ],
      "metadata": {
        "id": "CAfsjfxxbBqv"
      },
      "execution_count": null,
      "outputs": []
    },
    {
      "cell_type": "markdown",
      "source": [
        "# Build a CNN model"
      ],
      "metadata": {
        "id": "yvNQPzjR8sXD"
      }
    },
    {
      "cell_type": "code",
      "source": [
        "# Step 4. Build a CNN model\n",
        "from tensorflow.keras import layers, models\n",
        "\n",
        "model = models.Sequential([\n",
        "    layers.Conv2D(32, (3,3), activation='relu', input_shape=img_size + (3,)),\n",
        "    layers.MaxPooling2D(),\n",
        "    layers.Conv2D(64, (3,3), activation='relu'),\n",
        "    layers.MaxPooling2D(),\n",
        "    layers.Conv2D(128, (3,3), activation='relu'),\n",
        "    layers.MaxPooling2D(),\n",
        "\n",
        "    layers.Flatten(),\n",
        "    layers.Dense(128, activation='relu'),\n",
        "    layers.Dropout(0.2),\n",
        "    layers.Dense(3, activation='softmax')  # 3 classes\n",
        "])\n",
        "\n",
        "model.compile(optimizer='adam',\n",
        "              loss='sparse_categorical_crossentropy',\n",
        "              metrics=['accuracy'])"
      ],
      "metadata": {
        "id": "1-MllVn5cWrZ",
        "colab": {
          "base_uri": "https://localhost:8080/"
        },
        "outputId": "6e716f73-a30e-4db7-eeae-262ab69d3d51"
      },
      "execution_count": null,
      "outputs": [
        {
          "output_type": "stream",
          "name": "stderr",
          "text": [
            "/usr/local/lib/python3.12/dist-packages/keras/src/layers/convolutional/base_conv.py:113: UserWarning: Do not pass an `input_shape`/`input_dim` argument to a layer. When using Sequential models, prefer using an `Input(shape)` object as the first layer in the model instead.\n",
            "  super().__init__(activity_regularizer=activity_regularizer, **kwargs)\n"
          ]
        }
      ]
    },
    {
      "cell_type": "markdown",
      "source": [
        "#Train the model"
      ],
      "metadata": {
        "id": "7X8Yr_vn8uoC"
      }
    },
    {
      "cell_type": "code",
      "source": [
        "# Step 5. Train the model\n",
        "from tensorflow.keras.callbacks import EarlyStopping\n",
        "\n",
        "early_stop = EarlyStopping(\n",
        "    monitor='val_loss',\n",
        "    patience=5,\n",
        "    restore_best_weights=True\n",
        ")\n",
        "\n",
        "history = model.fit(\n",
        "    train_ds,\n",
        "    validation_data=val_ds,\n",
        "    epochs=50,\n",
        "    callbacks=[early_stop]\n",
        ")"
      ],
      "metadata": {
        "colab": {
          "base_uri": "https://localhost:8080/"
        },
        "id": "jYE7sjLUcZLG",
        "outputId": "adb6155a-7f99-4a3e-9642-97fd9f913488"
      },
      "execution_count": null,
      "outputs": [
        {
          "output_type": "stream",
          "name": "stdout",
          "text": [
            "Epoch 1/50\n",
            "\u001b[1m38/38\u001b[0m \u001b[32m━━━━━━━━━━━━━━━━━━━━\u001b[0m\u001b[37m\u001b[0m \u001b[1m33s\u001b[0m 504ms/step - accuracy: 0.3465 - loss: 1.8806 - val_accuracy: 0.3857 - val_loss: 1.0878\n",
            "Epoch 2/50\n",
            "\u001b[1m38/38\u001b[0m \u001b[32m━━━━━━━━━━━━━━━━━━━━\u001b[0m\u001b[37m\u001b[0m \u001b[1m5s\u001b[0m 120ms/step - accuracy: 0.3728 - loss: 1.0749 - val_accuracy: 0.4571 - val_loss: 1.0596\n",
            "Epoch 3/50\n",
            "\u001b[1m38/38\u001b[0m \u001b[32m━━━━━━━━━━━━━━━━━━━━\u001b[0m\u001b[37m\u001b[0m \u001b[1m5s\u001b[0m 119ms/step - accuracy: 0.4664 - loss: 1.0330 - val_accuracy: 0.4536 - val_loss: 1.0122\n",
            "Epoch 4/50\n",
            "\u001b[1m38/38\u001b[0m \u001b[32m━━━━━━━━━━━━━━━━━━━━\u001b[0m\u001b[37m\u001b[0m \u001b[1m5s\u001b[0m 122ms/step - accuracy: 0.5192 - loss: 0.9847 - val_accuracy: 0.5036 - val_loss: 0.9641\n",
            "Epoch 5/50\n",
            "\u001b[1m38/38\u001b[0m \u001b[32m━━━━━━━━━━━━━━━━━━━━\u001b[0m\u001b[37m\u001b[0m \u001b[1m5s\u001b[0m 120ms/step - accuracy: 0.6041 - loss: 0.8875 - val_accuracy: 0.6000 - val_loss: 0.8725\n",
            "Epoch 6/50\n",
            "\u001b[1m38/38\u001b[0m \u001b[32m━━━━━━━━━━━━━━━━━━━━\u001b[0m\u001b[37m\u001b[0m \u001b[1m5s\u001b[0m 120ms/step - accuracy: 0.6061 - loss: 0.8701 - val_accuracy: 0.5071 - val_loss: 1.0139\n",
            "Epoch 7/50\n",
            "\u001b[1m38/38\u001b[0m \u001b[32m━━━━━━━━━━━━━━━━━━━━\u001b[0m\u001b[37m\u001b[0m \u001b[1m5s\u001b[0m 120ms/step - accuracy: 0.7021 - loss: 0.7087 - val_accuracy: 0.6321 - val_loss: 0.8891\n",
            "Epoch 8/50\n",
            "\u001b[1m38/38\u001b[0m \u001b[32m━━━━━━━━━━━━━━━━━━━━\u001b[0m\u001b[37m\u001b[0m \u001b[1m5s\u001b[0m 123ms/step - accuracy: 0.7738 - loss: 0.5507 - val_accuracy: 0.6536 - val_loss: 0.7906\n",
            "Epoch 9/50\n",
            "\u001b[1m38/38\u001b[0m \u001b[32m━━━━━━━━━━━━━━━━━━━━\u001b[0m\u001b[37m\u001b[0m \u001b[1m5s\u001b[0m 120ms/step - accuracy: 0.8634 - loss: 0.4001 - val_accuracy: 0.6321 - val_loss: 0.9241\n",
            "Epoch 10/50\n",
            "\u001b[1m38/38\u001b[0m \u001b[32m━━━━━━━━━━━━━━━━━━━━\u001b[0m\u001b[37m\u001b[0m \u001b[1m5s\u001b[0m 120ms/step - accuracy: 0.8963 - loss: 0.2975 - val_accuracy: 0.5964 - val_loss: 1.0615\n",
            "Epoch 11/50\n",
            "\u001b[1m38/38\u001b[0m \u001b[32m━━━━━━━━━━━━━━━━━━━━\u001b[0m\u001b[37m\u001b[0m \u001b[1m5s\u001b[0m 119ms/step - accuracy: 0.9149 - loss: 0.2816 - val_accuracy: 0.6143 - val_loss: 1.0552\n",
            "Epoch 12/50\n",
            "\u001b[1m38/38\u001b[0m \u001b[32m━━━━━━━━━━━━━━━━━━━━\u001b[0m\u001b[37m\u001b[0m \u001b[1m5s\u001b[0m 121ms/step - accuracy: 0.9598 - loss: 0.1526 - val_accuracy: 0.5821 - val_loss: 1.3715\n",
            "Epoch 13/50\n",
            "\u001b[1m38/38\u001b[0m \u001b[32m━━━━━━━━━━━━━━━━━━━━\u001b[0m\u001b[37m\u001b[0m \u001b[1m5s\u001b[0m 120ms/step - accuracy: 0.9687 - loss: 0.1099 - val_accuracy: 0.5964 - val_loss: 1.7569\n"
          ]
        }
      ]
    },
    {
      "cell_type": "markdown",
      "source": [
        "# Plot"
      ],
      "metadata": {
        "id": "3CaXoAda8zGC"
      }
    },
    {
      "cell_type": "code",
      "source": [
        "import matplotlib.pyplot as plt\n",
        "\n",
        "# Retrieve values from the training history\n",
        "acc = history.history['accuracy']\n",
        "val_acc = history.history['val_accuracy']\n",
        "loss = history.history['loss']\n",
        "val_loss = history.history['val_loss']\n",
        "\n",
        "epochs = range(1, len(acc) + 1)\n",
        "\n",
        "# -----------------------------\n",
        "# Accuracy plot\n",
        "# -----------------------------\n",
        "plt.figure(figsize=(8, 5))\n",
        "plt.plot(epochs, acc, 'bo-', label='Training accuracy')\n",
        "plt.plot(epochs, val_acc, 'ro-', label='Validation accuracy')\n",
        "plt.title('Training and Validation Accuracy')\n",
        "plt.xlabel('Epochs')\n",
        "plt.ylabel('Accuracy')\n",
        "plt.legend()\n",
        "plt.grid(True)\n",
        "plt.show()\n",
        "\n",
        "# -----------------------------\n",
        "# Loss plot\n",
        "# -----------------------------\n",
        "plt.figure(figsize=(8, 5))\n",
        "plt.plot(epochs, loss, 'bo-', label='Training loss')\n",
        "plt.plot(epochs, val_loss, 'ro-', label='Validation loss')\n",
        "plt.title('Training and Validation Loss')\n",
        "plt.xlabel('Epochs')\n",
        "plt.ylabel('Loss')\n",
        "plt.legend()\n",
        "plt.grid(True)\n",
        "plt.show()\n"
      ],
      "metadata": {
        "colab": {
          "base_uri": "https://localhost:8080/",
          "height": 957
        },
        "id": "0yZLSE9_KHOn",
        "outputId": "f3c8a940-93fd-4330-c294-8f1febf0f1be"
      },
      "execution_count": null,
      "outputs": [
        {
          "output_type": "display_data",
          "data": {
            "text/plain": [
              "<Figure size 800x500 with 1 Axes>"
            ],
            "image/png": "[encoded data removed]"
          },
          "metadata": {}
        },
        {
          "output_type": "display_data",
          "data": {
            "text/plain": [
              "<Figure size 800x500 with 1 Axes>"
            ],
            "image/png": "[encoded data removed]"
          },
          "metadata": {}
        }
      ]
    },
    {
      "cell_type": "code",
      "source": [
        "# Step 6. Evaluate and save model\n",
        "loss, acc = model.evaluate(test_ds)\n",
        "print(f\"Test Accuracy: {acc:.2f}\")\n",
        "\n",
        "model.save(\"liquefaction_cnn.h5\")"
      ],
      "metadata": {
        "id": "j4Am5qYucfZQ",
        "colab": {
          "base_uri": "https://localhost:8080/"
        },
        "outputId": "1f22e75c-2dbd-4180-b7cc-a2a26d2b4fd3"
      },
      "execution_count": null,
      "outputs": [
        {
          "output_type": "stream",
          "name": "stdout",
          "text": [
            "\u001b[1m5/5\u001b[0m \u001b[32m━━━━━━━━━━━━━━━━━━━━\u001b[0m\u001b[37m\u001b[0m \u001b[1m1s\u001b[0m 30ms/step - accuracy: 0.6921 - loss: 0.8163\n"
          ]
        },
        {
          "output_type": "stream",
          "name": "stderr",
          "text": [
            "WARNING:absl:You are saving your model as an HDF5 file via `model.save()` or `keras.saving.save_model(model)`. This file format is considered legacy. We recommend using instead the native Keras format, e.g. `model.save('my_model.keras')` or `keras.saving.save_model(model, 'my_model.keras')`. \n"
          ]
        },
        {
          "output_type": "stream",
          "name": "stdout",
          "text": [
            "Test Accuracy: 0.70\n"
          ]
        }
      ]
    },
    {
      "cell_type": "code",
      "source": [],
      "metadata": {
        "id": "wnjjcQvLKLES"
      },
      "execution_count": null,
      "outputs": []
    }
  ]
}